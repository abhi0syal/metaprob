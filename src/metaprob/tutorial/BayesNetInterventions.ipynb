{
 "cells": [
  {
   "cell_type": "code",
   "execution_count": 1,
   "metadata": {},
   "outputs": [],
   "source": [
    "(ns metaprob.alex\n",
    "  (:refer-clojure :only [nil? defn let frequencies pos? for -> group-by last ->> gensym])\n",
    "  (:require\n",
    "    [clojure.repl :refer :all]\n",
    "    [metaprob.trace :as trace]\n",
    "    [metaprob.builtin-impl :as impl]\n",
    "    [metaprob.syntax :refer :all]\n",
    "    [metaprob.builtin :refer :all]\n",
    "    [metaprob.prelude :refer :all]\n",
    "    [metaprob.context :refer :all]\n",
    "    [metaprob.distributions :refer :all]\n",
    "    [metaprob.interpreters :refer :all]\n",
    "    [metaprob.inference :refer :all]\n",
    "    [metaprob.compositional :as comp]\n",
    "    [metaprob.examples.gaussian :refer :all]\n",
    "    [taoensso.tufte :as tufte :refer (defnp p profiled profile)]\n",
    "    [taoensso.tufte.stats :refer (stats)]\n",
    "    [taoensso.tufte.impl :refer (pdata-proxy-get)]\n",
    "    [metaprob.tutorial.jupyter :refer :all]))"
   ]
  },
  {
   "cell_type": "code",
   "execution_count": 9,
   "metadata": {},
   "outputs": [
    {
     "data": {
      "text/plain": [
       "#'metaprob.alex/pow"
      ]
     },
     "execution_count": 9,
     "metadata": {},
     "output_type": "execute_result"
    }
   ],
   "source": [
    "(define pow (gen [a b] (reduce (gen [x _] (* a x)) a (range (- b 1)))))"
   ]
  },
  {
   "cell_type": "code",
   "execution_count": 63,
   "metadata": {},
   "outputs": [
    {
     "data": {
      "text/plain": [
       "#'metaprob.alex/athlete-model"
      ]
     },
     "execution_count": 63,
     "metadata": {},
     "output_type": "execute_result"
    }
   ],
   "source": [
    "(define athlete-model\n",
    "  (gen []\n",
    "    (define skill (uniform 0 1))\n",
    "    (define has-sponsorship-contract? \n",
    "        (flip (pow skill 8)))\n",
    "    (define is-wealthy?\n",
    "      (flip\n",
    "        (if has-sponsorship-contract?\n",
    "          0.8\n",
    "          0.1)))\n",
    "    [skill has-sponsorship-contract? is-wealthy?]))"
   ]
  },
  {
   "cell_type": "code",
   "execution_count": 74,
   "metadata": {},
   "outputs": [
    {
     "data": {
      "text/plain": [
       "[0.9750075836495604 true true]"
      ]
     },
     "execution_count": 74,
     "metadata": {},
     "output_type": "execute_result"
    }
   ],
   "source": [
    "(athlete-model)"
   ]
  },
  {
   "cell_type": "code",
   "execution_count": 76,
   "metadata": {},
   "outputs": [
    {
     "data": {
      "text/plain": [
       "((0 \"skill\" \"uniform\") (1 \"has-sponsorship-contract?\" \"flip\") (2 \"is-wealthy?\" \"flip\"))"
      ]
     },
     "execution_count": 76,
     "metadata": {},
     "output_type": "execute_result"
    }
   ],
   "source": [
    "(addresses-of ((infer :procedure athlete-model) 1))"
   ]
  },
  {
   "cell_type": "code",
   "execution_count": 78,
   "metadata": {},
   "outputs": [
    {
     "data": {
      "text/plain": [
       "#'metaprob.alex/has-contract-trace"
      ]
     },
     "execution_count": 78,
     "metadata": {},
     "output_type": "execute_result"
    }
   ],
   "source": [
    "(define has-contract-trace (trace-set-value {} '(1 \"has-sponsorship-contract?\" \"flip\") true))"
   ]
  },
  {
   "cell_type": "code",
   "execution_count": 124,
   "metadata": {},
   "outputs": [
    {
     "data": {
      "text/plain": [
       "#'metaprob.alex/is-wealthy-trace"
      ]
     },
     "execution_count": 124,
     "metadata": {},
     "output_type": "execute_result"
    }
   ],
   "source": [
    "(define is-wealthy-trace (trace-set-value {} '(2 \"is-wealthy?\" \"flip\") true))"
   ]
  },
  {
   "cell_type": "code",
   "execution_count": 120,
   "metadata": {},
   "outputs": [
    {
     "name": "stdout",
     "output_type": "stream",
     "text": [
      "(gen\n",
      " [model-procedure inputs target-trace N]\n",
      " (define\n",
      "  particles\n",
      "  (replicate\n",
      "   N\n",
      "   (gen\n",
      "    []\n",
      "    (define\n",
      "     [_ candidate-trace score]\n",
      "     (infer\n",
      "      :procedure\n",
      "      model-procedure\n",
      "      :inputs\n",
      "      inputs\n",
      "      :target-trace\n",
      "      target-trace))\n",
      "    [candidate-trace score])))\n",
      " (define scores (map second particles))\n",
      " (define which (log-categorical scores))\n",
      " (define particle (nth particles which))\n",
      " (first particle))\n"
     ]
    }
   ],
   "source": [
    "(clojure.pprint/pprint (get importance-resampling :generative-source))"
   ]
  },
  {
   "cell_type": "code",
   "execution_count": 122,
   "metadata": {},
   "outputs": [
    {
     "data": {
      "text/plain": [
       "#'metaprob.alex/importance-resample"
      ]
     },
     "execution_count": 122,
     "metadata": {},
     "output_type": "execute_result"
    }
   ],
   "source": [
    "(define importance-resample\n",
    "    (gen\n",
    "     [model-procedure inputs target-trace intervention-trace N]\n",
    "     (define\n",
    "      particles\n",
    "      (replicate\n",
    "       N\n",
    "       (gen\n",
    "        []\n",
    "        (define\n",
    "         [_ candidate-trace score]\n",
    "         (infer\n",
    "          :procedure\n",
    "          model-procedure\n",
    "          :inputs\n",
    "          inputs\n",
    "          :target-trace\n",
    "          target-trace\n",
    "          :intervention-trace\n",
    "          intervention-trace))\n",
    "        [candidate-trace score])))\n",
    "     (define scores (map second particles))\n",
    "     (define which (log-categorical scores))\n",
    "     (define particle (nth particles which))\n",
    "     (first particle)))"
   ]
  },
  {
   "cell_type": "code",
   "execution_count": null,
   "metadata": {},
   "outputs": [],
   "source": []
  },
  {
   "cell_type": "code",
   "execution_count": 151,
   "metadata": {},
   "outputs": [
    {
     "data": {
      "text/plain": [
       "#'metaprob.alex/wealthy-samples-intervened"
      ]
     },
     "execution_count": 151,
     "metadata": {},
     "output_type": "execute_result"
    }
   ],
   "source": [
    "(define wealthy-samples-intervened\n",
    "  (replicate 100\n",
    "    (gen []\n",
    "        (importance-resample\n",
    "          athlete-model\n",
    "          []\n",
    "          is-wealthy-trace\n",
    "          has-contract-trace\n",
    "          100))))"
   ]
  },
  {
   "cell_type": "code",
   "execution_count": 158,
   "metadata": {},
   "outputs": [
    {
     "data": {
      "text/plain": [
       "#'metaprob.alex/wealthy-samples"
      ]
     },
     "execution_count": 158,
     "metadata": {},
     "output_type": "execute_result"
    }
   ],
   "source": [
    "(define wealthy-samples\n",
    "  (replicate 100\n",
    "    (gen []\n",
    "        (importance-resample\n",
    "          athlete-model\n",
    "          []\n",
    "          is-wealthy-trace\n",
    "          {}\n",
    "          30))))"
   ]
  },
  {
   "cell_type": "code",
   "execution_count": 138,
   "metadata": {},
   "outputs": [
    {
     "data": {
      "text/plain": [
       "#'metaprob.alex/extract-skill"
      ]
     },
     "execution_count": 138,
     "metadata": {},
     "output_type": "execute_result"
    }
   ],
   "source": [
    "(define extract-skill (gen [t] (trace-value t '(0 \"skill\" \"uniform\"))))"
   ]
  },
  {
   "cell_type": "code",
   "execution_count": 145,
   "metadata": {},
   "outputs": [
    {
     "data": {
      "text/plain": [
       "#'metaprob.alex/extract-contract"
      ]
     },
     "execution_count": 145,
     "metadata": {},
     "output_type": "execute_result"
    }
   ],
   "source": [
    "(define extract-contract (gen [t] (trace-value t '(1 \"has-sponsorship-contract?\" \"flip\"))))"
   ]
  },
  {
   "cell_type": "code",
   "execution_count": 148,
   "metadata": {},
   "outputs": [
    {
     "data": {
      "text/plain": [
       "50"
      ]
     },
     "execution_count": 148,
     "metadata": {},
     "output_type": "execute_result"
    }
   ],
   "source": [
    "(count (clojure.core/filter clojure.core/identity (map extract-contract wealthy-samples)))"
   ]
  },
  {
   "cell_type": "code",
   "execution_count": 159,
   "metadata": {},
   "outputs": [
    {
     "data": {
      "text/plain": [
       "66.5121461144975"
      ]
     },
     "execution_count": 159,
     "metadata": {},
     "output_type": "execute_result"
    }
   ],
   "source": [
    "(apply + (map extract-skill wealthy-samples))"
   ]
  },
  {
   "cell_type": "code",
   "execution_count": 153,
   "metadata": {},
   "outputs": [
    {
     "data": {
      "text/plain": [
       "52.286958823996166"
      ]
     },
     "execution_count": 153,
     "metadata": {},
     "output_type": "execute_result"
    }
   ],
   "source": [
    "(apply + (map extract-skill wealthy-samples-intervened))"
   ]
  },
  {
   "cell_type": "code",
   "execution_count": null,
   "metadata": {},
   "outputs": [],
   "source": []
  }
 ],
 "metadata": {
  "kernelspec": {
   "display_name": "Lein-Clojure",
   "language": "clojure",
   "name": "lein-clojure"
  },
  "language_info": {
   "file_extension": ".clj",
   "mimetype": "text/x-clojure",
   "name": "clojure",
   "version": "1.9.0"
  }
 },
 "nbformat": 4,
 "nbformat_minor": 2
}
